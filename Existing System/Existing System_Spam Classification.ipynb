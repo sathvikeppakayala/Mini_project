{
 "cells": [
  {
   "cell_type": "code",
   "execution_count": 6,
   "id": "25f2d2fd-3555-4aec-b7dc-eb510c1d5506",
   "metadata": {},
   "outputs": [],
   "source": [
    "import pandas as pd\n",
    "import numpy as np\n"
   ]
  },
  {
   "cell_type": "code",
   "execution_count": 11,
   "id": "ec2b2d9f-ffa9-4e10-bb11-5da83854c9b7",
   "metadata": {},
   "outputs": [
    {
     "data": {
      "text/html": [
       "<div>\n",
       "<style scoped>\n",
       "    .dataframe tbody tr th:only-of-type {\n",
       "        vertical-align: middle;\n",
       "    }\n",
       "\n",
       "    .dataframe tbody tr th {\n",
       "        vertical-align: top;\n",
       "    }\n",
       "\n",
       "    .dataframe thead th {\n",
       "        text-align: right;\n",
       "    }\n",
       "</style>\n",
       "<table border=\"1\" class=\"dataframe\">\n",
       "  <thead>\n",
       "    <tr style=\"text-align: right;\">\n",
       "      <th></th>\n",
       "      <th>text</th>\n",
       "      <th>label</th>\n",
       "    </tr>\n",
       "  </thead>\n",
       "  <tbody>\n",
       "    <tr>\n",
       "      <th>0</th>\n",
       "      <td>Subject: enron methanol ; meter # : 988291\\r\\n...</td>\n",
       "      <td>ham</td>\n",
       "    </tr>\n",
       "    <tr>\n",
       "      <th>1</th>\n",
       "      <td>Subject: hpl nom for january 9 , 2001\\r\\n( see...</td>\n",
       "      <td>ham</td>\n",
       "    </tr>\n",
       "    <tr>\n",
       "      <th>2</th>\n",
       "      <td>Subject: neon retreat\\r\\nho ho ho , we ' re ar...</td>\n",
       "      <td>ham</td>\n",
       "    </tr>\n",
       "    <tr>\n",
       "      <th>3</th>\n",
       "      <td>Subject: photoshop , windows , office . cheap ...</td>\n",
       "      <td>spam</td>\n",
       "    </tr>\n",
       "    <tr>\n",
       "      <th>4</th>\n",
       "      <td>Subject: re : indian springs\\r\\nthis deal is t...</td>\n",
       "      <td>ham</td>\n",
       "    </tr>\n",
       "  </tbody>\n",
       "</table>\n",
       "</div>"
      ],
      "text/plain": [
       "                                                text label\n",
       "0  Subject: enron methanol ; meter # : 988291\\r\\n...   ham\n",
       "1  Subject: hpl nom for january 9 , 2001\\r\\n( see...   ham\n",
       "2  Subject: neon retreat\\r\\nho ho ho , we ' re ar...   ham\n",
       "3  Subject: photoshop , windows , office . cheap ...  spam\n",
       "4  Subject: re : indian springs\\r\\nthis deal is t...   ham"
      ]
     },
     "execution_count": 11,
     "metadata": {},
     "output_type": "execute_result"
    }
   ],
   "source": [
    "data = pd.read_csv('Documents/Mini Project/Existing System/spam_ham_dataset.csv')\n",
    "data.head()"
   ]
  },
  {
   "cell_type": "code",
   "execution_count": 12,
   "id": "41daaf3f-c9bb-448e-8350-8b9030b4542c",
   "metadata": {},
   "outputs": [
    {
     "data": {
      "text/plain": [
       "5171"
      ]
     },
     "execution_count": 12,
     "metadata": {},
     "output_type": "execute_result"
    }
   ],
   "source": [
    "len(data)"
   ]
  },
  {
   "cell_type": "code",
   "execution_count": null,
   "id": "d0a93880-4d77-4168-9f19-882b5845a6a3",
   "metadata": {},
   "outputs": [
    {
     "name": "stdout",
     "output_type": "stream",
     "text": [
      "0       0\n",
      "1       0\n",
      "2       0\n",
      "3       1\n",
      "4       0\n",
      "       ..\n",
      "5166    0\n",
      "5167    0\n",
      "5168    0\n",
      "5169    0\n",
      "5170    1\n",
      "Name: label, Length: 5171, dtype: int64\n",
      "logistic Regression\n",
      "Accuracy: 0.9767981438515081\n",
      "Precision: 0.947945205479452\n",
      "Recall: 0.969187675070028\n",
      "F1-score: 0.9584487534626038\n",
      "\n",
      "\n",
      "Decision Tree\n",
      "Accuracy: 0.9470224284609435\n",
      "Precision: 0.9001386962552012\n",
      "Recall: 0.9089635854341737\n",
      "F1-score: 0.9045296167247386\n",
      "\n",
      "\n",
      "Knearest Neighbours\n",
      "Accuracy: 0.9450889404485692\n",
      "Precision: 0.9583333333333334\n",
      "Recall: 0.8375350140056023\n",
      "F1-score: 0.8938714499252616\n",
      "\n",
      "\n",
      "Adaboost\n",
      "Accuracy: 0.9520494972931168\n",
      "Precision: 0.8861256544502618\n",
      "Recall: 0.9481792717086834\n",
      "F1-score: 0.9161028416779432\n",
      "\n",
      "\n",
      "Random Forest Classifier\n",
      "Accuracy: 0.9651972157772621\n",
      "Precision: 0.9469914040114613\n",
      "Recall: 0.9257703081232493\n",
      "F1-score: 0.9362606232294618\n",
      "\n",
      "\n"
     ]
    }
   ],
   "source": [
    "import matplotlib.pyplot as plt\n",
    "import seaborn as sns\n",
    "from sklearn.model_selection import train_test_split\n",
    "from sklearn.feature_extraction.text import TfidfVectorizer\n",
    "from sklearn.linear_model import LogisticRegression\n",
    "from sklearn.tree import DecisionTreeClassifier\n",
    "from sklearn.neighbors import KNeighborsClassifier\n",
    "from sklearn.ensemble import AdaBoostClassifier, RandomForestClassifier\n",
    "from sklearn.ensemble import StackingClassifier\n",
    "from sklearn.metrics import accuracy_score, precision_score, recall_score, f1_score, confusion_matrix\n",
    "import warnings\n",
    "warnings.filterwarnings(\"ignore\")\n",
    "data['label'] = data['label'].map({'spam': 1, 'ham': 0})\n",
    "vectorizer = TfidfVectorizer()\n",
    "X = vectorizer.fit_transform(data['text'])\n",
    "y = data['label']\n",
    "print(y)\n",
    "X_train, X_test, y_train, y_test = train_test_split(X, y, test_size=0.5, random_state=42)\n",
    "base_models = [('logistic Regression', LogisticRegression()), ('Decision Tree', DecisionTreeClassifier()), ('Knearest Neighbours', KNeighborsClassifier()), ('Adaboost', AdaBoostClassifier()), ('Random Forest Classifier', RandomForestClassifier())]\n",
    "stacking_model = StackingClassifier(estimators=base_models, final_estimator=LogisticRegression())\n",
    "results = {}\n",
    "for name, model in base_models:\n",
    "    model.fit(X_train, y_train)\n",
    "    y_pred_base = model.predict(X_test)\n",
    "    acc = accuracy_score(y_test, y_pred_base)\n",
    "    prec = precision_score(y_test, y_pred_base)\n",
    "    rec = recall_score(y_test, y_pred_base)\n",
    "    f1 = f1_score(y_test, y_pred_base)\n",
    "    results[name] = [acc, prec, rec, f1]\n",
    "    print(f\"{name}\\nAccuracy: {acc}\\nPrecision: {prec}\\nRecall: {rec}\\nF1-score: {f1}\\n\\n\")\n",
    "stacking_model.fit(X_train, y_train)\n",
    "y_pred = stacking_model.predict(X_test)\n",
    "accuracy = accuracy_score(y_test, y_pred)\n",
    "precision = precision_score(y_test, y_pred)\n",
    "recall = recall_score(y_test, y_pred)\n",
    "f1 = f1_score(y_test, y_pred)\n",
    "results['stacking'] = [accuracy, precision, recall, f1]\n",
    "print(f\"Stacking Classifier: \\nAccuracy: {accuracy}\\nPrecision: {precision}\\nRecall: {recall}\\nF1-score: {f1}\\n\\n\")\n",
    "metrics = ['Accuracy', 'Precision', 'Recall', 'F1-score']\n",
    "fig, axes = plt.subplots(2, 2, figsize=(12, 10))\n",
    "axes = axes.flatten()\n",
    "for i, metric in enumerate(metrics):\n",
    "    values = [results[model][i] for model in results]\n",
    "    models = list(results.keys())\n",
    "    axes[i].bar(models, values, color=['blue', 'green', 'red', 'purple', 'orange'])\n",
    "    axes[i].set_title(metric)\n",
    "    axes[i].set_ylim([0, 1])\n",
    "    axes[i].set_xticklabels(models, rotation=45)\n",
    "plt.tight_layout()\n",
    "plt.show()\n",
    "cm = confusion_matrix(y_test, y_pred)\n",
    "sns.heatmap(cm, annot=True, fmt='d', cmap='Blues', xticklabels=['Ham', 'Spam'], yticklabels=['Ham', 'Spam'])\n",
    "plt.xlabel('Predicted')\n",
    "plt.ylabel('Actual')\n",
    "plt.title('Confusion Matrix for Stacking Classifier')\n",
    "plt.show()\n",
    "print(\"This is Existing System, used Stacking Classfier with final_estimator: LogisticRegression()\\n\")"
   ]
  },
  {
   "cell_type": "code",
   "execution_count": null,
   "id": "134e7dfa-b0a0-457b-88f1-c01d381b3dd1",
   "metadata": {},
   "outputs": [],
   "source": []
  }
 ],
 "metadata": {
  "kernelspec": {
   "display_name": "Python 3 (ipykernel)",
   "language": "python",
   "name": "python3"
  },
  "language_info": {
   "codemirror_mode": {
    "name": "ipython",
    "version": 3
   },
   "file_extension": ".py",
   "mimetype": "text/x-python",
   "name": "python",
   "nbconvert_exporter": "python",
   "pygments_lexer": "ipython3",
   "version": "3.12.5"
  }
 },
 "nbformat": 4,
 "nbformat_minor": 5
}
